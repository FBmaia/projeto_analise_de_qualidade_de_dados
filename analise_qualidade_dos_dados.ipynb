{
  "nbformat": 4,
  "nbformat_minor": 0,
  "metadata": {
    "colab": {
      "provenance": [],
      "include_colab_link": true
    },
    "kernelspec": {
      "name": "python3",
      "display_name": "Python 3"
    },
    "language_info": {
      "name": "python"
    }
  },
  "cells": [
    {
      "cell_type": "markdown",
      "metadata": {
        "id": "view-in-github",
        "colab_type": "text"
      },
      "source": [
        "<a href=\"https://colab.research.google.com/github/FBmaia/projeto_analise_de_qualidade_de_dados/blob/main/analise_qualidade_dos_dados.ipynb\" target=\"_parent\"><img src=\"https://colab.research.google.com/assets/colab-badge.svg\" alt=\"Open In Colab\"/></a>"
      ]
    },
    {
      "cell_type": "markdown",
      "source": [
        "# Avaliação de qualidade dos dados"
      ],
      "metadata": {
        "id": "nJcB81J_HUIe"
      }
    },
    {
      "cell_type": "markdown",
      "source": [
        "### Importação das bibliotecas necessárias para a análise."
      ],
      "metadata": {
        "id": "3kVTZfI7HrR9"
      }
    },
    {
      "cell_type": "code",
      "source": [
        "import pandas as pd\n",
        "import numpy as np\n",
        "import re\n",
        "import datetime as dt"
      ],
      "metadata": {
        "id": "fiokoFn8FpKk"
      },
      "execution_count": null,
      "outputs": []
    },
    {
      "cell_type": "markdown",
      "source": [
        "### Permitindo acesso ao Google Drive\n",
        "Como estou utilizando o Google Colab para a criação do script de análise, o código permite o acesso a arquivos do meu Google Drive, onde se encontra a base de dados ***Case DQA.csv***"
      ],
      "metadata": {
        "id": "t9SNL5TqIC9h"
      }
    },
    {
      "cell_type": "code",
      "source": [
        "from google.colab import drive\n",
        "drive.mount('/content/drive')"
      ],
      "metadata": {
        "id": "Et_yaH36pn8n",
        "colab": {
          "base_uri": "https://localhost:8080/"
        },
        "outputId": "c26e8398-0c21-41f9-9abf-0ceb4a069767"
      },
      "execution_count": null,
      "outputs": [
        {
          "output_type": "stream",
          "name": "stdout",
          "text": [
            "Mounted at /content/drive\n"
          ]
        }
      ]
    },
    {
      "cell_type": "markdown",
      "source": [
        "### Criação de um DataFrame Pandas a partir do arquivo CSV"
      ],
      "metadata": {
        "id": "ZIF5kHX1JGkr"
      }
    },
    {
      "cell_type": "code",
      "source": [
        "df = pd.read_csv('/content/drive/MyDrive/Case Neoway/Base de dados - Case DQA.csv')"
      ],
      "metadata": {
        "id": "uZWO_N5qGKTT"
      },
      "execution_count": null,
      "outputs": []
    },
    {
      "cell_type": "markdown",
      "source": [
        "Verificação dos tipos de dados das colunas"
      ],
      "metadata": {
        "id": "a-FU6DdRJeMT"
      }
    },
    {
      "cell_type": "code",
      "source": [
        "df.head()"
      ],
      "metadata": {
        "id": "9T9BkvSTGZ6Y",
        "colab": {
          "base_uri": "https://localhost:8080/",
          "height": 310
        },
        "outputId": "010de7e8-2a75-41de-c3b5-23abb89113f3"
      },
      "execution_count": null,
      "outputs": [
        {
          "output_type": "execute_result",
          "data": {
            "text/plain": [
              "   ID Processo Número do Processo      Nome Autor        Nome Réu  \\\n",
              "0            1        fg-37913-42   Edward Murphy             NaN   \n",
              "1            2        Lh-36673-92  Frank Williams             NaN   \n",
              "2            3        ej-52718-58  Clifford Adams             NaN   \n",
              "3            4        nA-99129-59   Donna Andrews             NaN   \n",
              "4            5        ay-51526-16   Melissa Scott  Scott Sheppard   \n",
              "\n",
              "  Data Ajuizamento Valor da Causa Data da Sentença Valor da Sentença  \\\n",
              "0       2024-04-26            NaN       2024-09-06           24240.0   \n",
              "1       2023-11-19    1.398,02750       2024-09-18               NaN   \n",
              "2       2022-01-28            NaN              NaN               NaN   \n",
              "3       2024-02-25            NaN       2023-08-07           18702.0   \n",
              "4       2023-03-20           rrrr       2024-05-05           10155.0   \n",
              "\n",
              "       Tipo de Ação          Motivo da Ação  Advogado Autor   Advogado Réu  \\\n",
              "0        Âçãõ Pènàl                Divórcio      Dana Kelly            NaN   \n",
              "1        Ação Cível              Îndénizâçã   Ashley Chavez            NaN   \n",
              "2  Ação Trabalhista                Divórcio     Wendy Perez            NaN   \n",
              "3  Ação Trabalhista  Responsabilidade Civil    David Vargas            NaN   \n",
              "4        Ação Penal  Responsabilidade Civil  Kenneth Flores  Valerie Davis   \n",
              "\n",
              "  Resultado do Processo        Status           Vara  \n",
              "0            Indefinido       Julgado  2ª Vara Cível  \n",
              "1          Improcedente       Julgado  5ª Vara Cível  \n",
              "2            Indefinido       Julgado  4ª Vara Cível  \n",
              "3             Arquivado  Em andamento  4ª Vara Cível  \n",
              "4             Arquivado       Julgado  2ª Vara Cível  "
            ],
            "text/html": [
              "\n",
              "  <div id=\"df-6be74f04-3064-453f-a945-8c7bc5a43141\" class=\"colab-df-container\">\n",
              "    <div>\n",
              "<style scoped>\n",
              "    .dataframe tbody tr th:only-of-type {\n",
              "        vertical-align: middle;\n",
              "    }\n",
              "\n",
              "    .dataframe tbody tr th {\n",
              "        vertical-align: top;\n",
              "    }\n",
              "\n",
              "    .dataframe thead th {\n",
              "        text-align: right;\n",
              "    }\n",
              "</style>\n",
              "<table border=\"1\" class=\"dataframe\">\n",
              "  <thead>\n",
              "    <tr style=\"text-align: right;\">\n",
              "      <th></th>\n",
              "      <th>ID Processo</th>\n",
              "      <th>Número do Processo</th>\n",
              "      <th>Nome Autor</th>\n",
              "      <th>Nome Réu</th>\n",
              "      <th>Data Ajuizamento</th>\n",
              "      <th>Valor da Causa</th>\n",
              "      <th>Data da Sentença</th>\n",
              "      <th>Valor da Sentença</th>\n",
              "      <th>Tipo de Ação</th>\n",
              "      <th>Motivo da Ação</th>\n",
              "      <th>Advogado Autor</th>\n",
              "      <th>Advogado Réu</th>\n",
              "      <th>Resultado do Processo</th>\n",
              "      <th>Status</th>\n",
              "      <th>Vara</th>\n",
              "    </tr>\n",
              "  </thead>\n",
              "  <tbody>\n",
              "    <tr>\n",
              "      <th>0</th>\n",
              "      <td>1</td>\n",
              "      <td>fg-37913-42</td>\n",
              "      <td>Edward Murphy</td>\n",
              "      <td>NaN</td>\n",
              "      <td>2024-04-26</td>\n",
              "      <td>NaN</td>\n",
              "      <td>2024-09-06</td>\n",
              "      <td>24240.0</td>\n",
              "      <td>Âçãõ Pènàl</td>\n",
              "      <td>Divórcio</td>\n",
              "      <td>Dana Kelly</td>\n",
              "      <td>NaN</td>\n",
              "      <td>Indefinido</td>\n",
              "      <td>Julgado</td>\n",
              "      <td>2ª Vara Cível</td>\n",
              "    </tr>\n",
              "    <tr>\n",
              "      <th>1</th>\n",
              "      <td>2</td>\n",
              "      <td>Lh-36673-92</td>\n",
              "      <td>Frank Williams</td>\n",
              "      <td>NaN</td>\n",
              "      <td>2023-11-19</td>\n",
              "      <td>1.398,02750</td>\n",
              "      <td>2024-09-18</td>\n",
              "      <td>NaN</td>\n",
              "      <td>Ação Cível</td>\n",
              "      <td>Îndénizâçã</td>\n",
              "      <td>Ashley Chavez</td>\n",
              "      <td>NaN</td>\n",
              "      <td>Improcedente</td>\n",
              "      <td>Julgado</td>\n",
              "      <td>5ª Vara Cível</td>\n",
              "    </tr>\n",
              "    <tr>\n",
              "      <th>2</th>\n",
              "      <td>3</td>\n",
              "      <td>ej-52718-58</td>\n",
              "      <td>Clifford Adams</td>\n",
              "      <td>NaN</td>\n",
              "      <td>2022-01-28</td>\n",
              "      <td>NaN</td>\n",
              "      <td>NaN</td>\n",
              "      <td>NaN</td>\n",
              "      <td>Ação Trabalhista</td>\n",
              "      <td>Divórcio</td>\n",
              "      <td>Wendy Perez</td>\n",
              "      <td>NaN</td>\n",
              "      <td>Indefinido</td>\n",
              "      <td>Julgado</td>\n",
              "      <td>4ª Vara Cível</td>\n",
              "    </tr>\n",
              "    <tr>\n",
              "      <th>3</th>\n",
              "      <td>4</td>\n",
              "      <td>nA-99129-59</td>\n",
              "      <td>Donna Andrews</td>\n",
              "      <td>NaN</td>\n",
              "      <td>2024-02-25</td>\n",
              "      <td>NaN</td>\n",
              "      <td>2023-08-07</td>\n",
              "      <td>18702.0</td>\n",
              "      <td>Ação Trabalhista</td>\n",
              "      <td>Responsabilidade Civil</td>\n",
              "      <td>David Vargas</td>\n",
              "      <td>NaN</td>\n",
              "      <td>Arquivado</td>\n",
              "      <td>Em andamento</td>\n",
              "      <td>4ª Vara Cível</td>\n",
              "    </tr>\n",
              "    <tr>\n",
              "      <th>4</th>\n",
              "      <td>5</td>\n",
              "      <td>ay-51526-16</td>\n",
              "      <td>Melissa Scott</td>\n",
              "      <td>Scott Sheppard</td>\n",
              "      <td>2023-03-20</td>\n",
              "      <td>rrrr</td>\n",
              "      <td>2024-05-05</td>\n",
              "      <td>10155.0</td>\n",
              "      <td>Ação Penal</td>\n",
              "      <td>Responsabilidade Civil</td>\n",
              "      <td>Kenneth Flores</td>\n",
              "      <td>Valerie Davis</td>\n",
              "      <td>Arquivado</td>\n",
              "      <td>Julgado</td>\n",
              "      <td>2ª Vara Cível</td>\n",
              "    </tr>\n",
              "  </tbody>\n",
              "</table>\n",
              "</div>\n",
              "    <div class=\"colab-df-buttons\">\n",
              "\n",
              "  <div class=\"colab-df-container\">\n",
              "    <button class=\"colab-df-convert\" onclick=\"convertToInteractive('df-6be74f04-3064-453f-a945-8c7bc5a43141')\"\n",
              "            title=\"Convert this dataframe to an interactive table.\"\n",
              "            style=\"display:none;\">\n",
              "\n",
              "  <svg xmlns=\"http://www.w3.org/2000/svg\" height=\"24px\" viewBox=\"0 -960 960 960\">\n",
              "    <path d=\"M120-120v-720h720v720H120Zm60-500h600v-160H180v160Zm220 220h160v-160H400v160Zm0 220h160v-160H400v160ZM180-400h160v-160H180v160Zm440 0h160v-160H620v160ZM180-180h160v-160H180v160Zm440 0h160v-160H620v160Z\"/>\n",
              "  </svg>\n",
              "    </button>\n",
              "\n",
              "  <style>\n",
              "    .colab-df-container {\n",
              "      display:flex;\n",
              "      gap: 12px;\n",
              "    }\n",
              "\n",
              "    .colab-df-convert {\n",
              "      background-color: #E8F0FE;\n",
              "      border: none;\n",
              "      border-radius: 50%;\n",
              "      cursor: pointer;\n",
              "      display: none;\n",
              "      fill: #1967D2;\n",
              "      height: 32px;\n",
              "      padding: 0 0 0 0;\n",
              "      width: 32px;\n",
              "    }\n",
              "\n",
              "    .colab-df-convert:hover {\n",
              "      background-color: #E2EBFA;\n",
              "      box-shadow: 0px 1px 2px rgba(60, 64, 67, 0.3), 0px 1px 3px 1px rgba(60, 64, 67, 0.15);\n",
              "      fill: #174EA6;\n",
              "    }\n",
              "\n",
              "    .colab-df-buttons div {\n",
              "      margin-bottom: 4px;\n",
              "    }\n",
              "\n",
              "    [theme=dark] .colab-df-convert {\n",
              "      background-color: #3B4455;\n",
              "      fill: #D2E3FC;\n",
              "    }\n",
              "\n",
              "    [theme=dark] .colab-df-convert:hover {\n",
              "      background-color: #434B5C;\n",
              "      box-shadow: 0px 1px 3px 1px rgba(0, 0, 0, 0.15);\n",
              "      filter: drop-shadow(0px 1px 2px rgba(0, 0, 0, 0.3));\n",
              "      fill: #FFFFFF;\n",
              "    }\n",
              "  </style>\n",
              "\n",
              "    <script>\n",
              "      const buttonEl =\n",
              "        document.querySelector('#df-6be74f04-3064-453f-a945-8c7bc5a43141 button.colab-df-convert');\n",
              "      buttonEl.style.display =\n",
              "        google.colab.kernel.accessAllowed ? 'block' : 'none';\n",
              "\n",
              "      async function convertToInteractive(key) {\n",
              "        const element = document.querySelector('#df-6be74f04-3064-453f-a945-8c7bc5a43141');\n",
              "        const dataTable =\n",
              "          await google.colab.kernel.invokeFunction('convertToInteractive',\n",
              "                                                    [key], {});\n",
              "        if (!dataTable) return;\n",
              "\n",
              "        const docLinkHtml = 'Like what you see? Visit the ' +\n",
              "          '<a target=\"_blank\" href=https://colab.research.google.com/notebooks/data_table.ipynb>data table notebook</a>'\n",
              "          + ' to learn more about interactive tables.';\n",
              "        element.innerHTML = '';\n",
              "        dataTable['output_type'] = 'display_data';\n",
              "        await google.colab.output.renderOutput(dataTable, element);\n",
              "        const docLink = document.createElement('div');\n",
              "        docLink.innerHTML = docLinkHtml;\n",
              "        element.appendChild(docLink);\n",
              "      }\n",
              "    </script>\n",
              "  </div>\n",
              "\n",
              "\n",
              "<div id=\"df-f387e02a-d57d-4470-8a07-e1b10312aad1\">\n",
              "  <button class=\"colab-df-quickchart\" onclick=\"quickchart('df-f387e02a-d57d-4470-8a07-e1b10312aad1')\"\n",
              "            title=\"Suggest charts\"\n",
              "            style=\"display:none;\">\n",
              "\n",
              "<svg xmlns=\"http://www.w3.org/2000/svg\" height=\"24px\"viewBox=\"0 0 24 24\"\n",
              "     width=\"24px\">\n",
              "    <g>\n",
              "        <path d=\"M19 3H5c-1.1 0-2 .9-2 2v14c0 1.1.9 2 2 2h14c1.1 0 2-.9 2-2V5c0-1.1-.9-2-2-2zM9 17H7v-7h2v7zm4 0h-2V7h2v10zm4 0h-2v-4h2v4z\"/>\n",
              "    </g>\n",
              "</svg>\n",
              "  </button>\n",
              "\n",
              "<style>\n",
              "  .colab-df-quickchart {\n",
              "      --bg-color: #E8F0FE;\n",
              "      --fill-color: #1967D2;\n",
              "      --hover-bg-color: #E2EBFA;\n",
              "      --hover-fill-color: #174EA6;\n",
              "      --disabled-fill-color: #AAA;\n",
              "      --disabled-bg-color: #DDD;\n",
              "  }\n",
              "\n",
              "  [theme=dark] .colab-df-quickchart {\n",
              "      --bg-color: #3B4455;\n",
              "      --fill-color: #D2E3FC;\n",
              "      --hover-bg-color: #434B5C;\n",
              "      --hover-fill-color: #FFFFFF;\n",
              "      --disabled-bg-color: #3B4455;\n",
              "      --disabled-fill-color: #666;\n",
              "  }\n",
              "\n",
              "  .colab-df-quickchart {\n",
              "    background-color: var(--bg-color);\n",
              "    border: none;\n",
              "    border-radius: 50%;\n",
              "    cursor: pointer;\n",
              "    display: none;\n",
              "    fill: var(--fill-color);\n",
              "    height: 32px;\n",
              "    padding: 0;\n",
              "    width: 32px;\n",
              "  }\n",
              "\n",
              "  .colab-df-quickchart:hover {\n",
              "    background-color: var(--hover-bg-color);\n",
              "    box-shadow: 0 1px 2px rgba(60, 64, 67, 0.3), 0 1px 3px 1px rgba(60, 64, 67, 0.15);\n",
              "    fill: var(--button-hover-fill-color);\n",
              "  }\n",
              "\n",
              "  .colab-df-quickchart-complete:disabled,\n",
              "  .colab-df-quickchart-complete:disabled:hover {\n",
              "    background-color: var(--disabled-bg-color);\n",
              "    fill: var(--disabled-fill-color);\n",
              "    box-shadow: none;\n",
              "  }\n",
              "\n",
              "  .colab-df-spinner {\n",
              "    border: 2px solid var(--fill-color);\n",
              "    border-color: transparent;\n",
              "    border-bottom-color: var(--fill-color);\n",
              "    animation:\n",
              "      spin 1s steps(1) infinite;\n",
              "  }\n",
              "\n",
              "  @keyframes spin {\n",
              "    0% {\n",
              "      border-color: transparent;\n",
              "      border-bottom-color: var(--fill-color);\n",
              "      border-left-color: var(--fill-color);\n",
              "    }\n",
              "    20% {\n",
              "      border-color: transparent;\n",
              "      border-left-color: var(--fill-color);\n",
              "      border-top-color: var(--fill-color);\n",
              "    }\n",
              "    30% {\n",
              "      border-color: transparent;\n",
              "      border-left-color: var(--fill-color);\n",
              "      border-top-color: var(--fill-color);\n",
              "      border-right-color: var(--fill-color);\n",
              "    }\n",
              "    40% {\n",
              "      border-color: transparent;\n",
              "      border-right-color: var(--fill-color);\n",
              "      border-top-color: var(--fill-color);\n",
              "    }\n",
              "    60% {\n",
              "      border-color: transparent;\n",
              "      border-right-color: var(--fill-color);\n",
              "    }\n",
              "    80% {\n",
              "      border-color: transparent;\n",
              "      border-right-color: var(--fill-color);\n",
              "      border-bottom-color: var(--fill-color);\n",
              "    }\n",
              "    90% {\n",
              "      border-color: transparent;\n",
              "      border-bottom-color: var(--fill-color);\n",
              "    }\n",
              "  }\n",
              "</style>\n",
              "\n",
              "  <script>\n",
              "    async function quickchart(key) {\n",
              "      const quickchartButtonEl =\n",
              "        document.querySelector('#' + key + ' button');\n",
              "      quickchartButtonEl.disabled = true;  // To prevent multiple clicks.\n",
              "      quickchartButtonEl.classList.add('colab-df-spinner');\n",
              "      try {\n",
              "        const charts = await google.colab.kernel.invokeFunction(\n",
              "            'suggestCharts', [key], {});\n",
              "      } catch (error) {\n",
              "        console.error('Error during call to suggestCharts:', error);\n",
              "      }\n",
              "      quickchartButtonEl.classList.remove('colab-df-spinner');\n",
              "      quickchartButtonEl.classList.add('colab-df-quickchart-complete');\n",
              "    }\n",
              "    (() => {\n",
              "      let quickchartButtonEl =\n",
              "        document.querySelector('#df-f387e02a-d57d-4470-8a07-e1b10312aad1 button');\n",
              "      quickchartButtonEl.style.display =\n",
              "        google.colab.kernel.accessAllowed ? 'block' : 'none';\n",
              "    })();\n",
              "  </script>\n",
              "</div>\n",
              "\n",
              "    </div>\n",
              "  </div>\n"
            ],
            "application/vnd.google.colaboratory.intrinsic+json": {
              "type": "dataframe",
              "variable_name": "df",
              "summary": "{\n  \"name\": \"df\",\n  \"rows\": 49970,\n  \"fields\": [\n    {\n      \"column\": \"ID Processo\",\n      \"properties\": {\n        \"dtype\": \"number\",\n        \"std\": 14425,\n        \"min\": 1,\n        \"max\": 49999,\n        \"num_unique_values\": 49970,\n        \"samples\": [\n          14606,\n          11357,\n          26017\n        ],\n        \"semantic_type\": \"\",\n        \"description\": \"\"\n      }\n    },\n    {\n      \"column\": \"N\\u00famero do Processo\",\n      \"properties\": {\n        \"dtype\": \"string\",\n        \"num_unique_values\": 49963,\n        \"samples\": [\n          \"rY-63781-82\",\n          \"cA-18990-63\",\n          \"pF-52417-03\"\n        ],\n        \"semantic_type\": \"\",\n        \"description\": \"\"\n      }\n    },\n    {\n      \"column\": \"Nome Autor\",\n      \"properties\": {\n        \"dtype\": \"string\",\n        \"num_unique_values\": 40191,\n        \"samples\": [\n          \"Trevor Ford\",\n          \"Chad Harrison\",\n          \"Lisa Garrison\"\n        ],\n        \"semantic_type\": \"\",\n        \"description\": \"\"\n      }\n    },\n    {\n      \"column\": \"Nome R\\u00e9u\",\n      \"properties\": {\n        \"dtype\": \"category\",\n        \"num_unique_values\": 21934,\n        \"samples\": [\n          \"Sarah Ferrell\",\n          \"Tina Hunter\",\n          \"Brian Lynn\"\n        ],\n        \"semantic_type\": \"\",\n        \"description\": \"\"\n      }\n    },\n    {\n      \"column\": \"Data Ajuizamento\",\n      \"properties\": {\n        \"dtype\": \"category\",\n        \"num_unique_values\": 1098,\n        \"samples\": [\n          \"2024-10-27\",\n          \"2023-05-02\",\n          \"2022-03-22\"\n        ],\n        \"semantic_type\": \"\",\n        \"description\": \"\"\n      }\n    },\n    {\n      \"column\": \"Valor da Causa\",\n      \"properties\": {\n        \"dtype\": \"category\",\n        \"num_unique_values\": 19600,\n        \"samples\": [\n          \"35302.0\",\n          \"47168.0\",\n          \"12687.0\"\n        ],\n        \"semantic_type\": \"\",\n        \"description\": \"\"\n      }\n    },\n    {\n      \"column\": \"Data da Senten\\u00e7a\",\n      \"properties\": {\n        \"dtype\": \"category\",\n        \"num_unique_values\": 1042,\n        \"samples\": [\n          \"2024-03-27\",\n          \"2022-11-13\",\n          \"2023-10-07\"\n        ],\n        \"semantic_type\": \"\",\n        \"description\": \"\"\n      }\n    },\n    {\n      \"column\": \"Valor da Senten\\u00e7a\",\n      \"properties\": {\n        \"dtype\": \"category\",\n        \"num_unique_values\": 19524,\n        \"samples\": [\n          \"12256.0\",\n          \"7270.0\",\n          \"45337.0\"\n        ],\n        \"semantic_type\": \"\",\n        \"description\": \"\"\n      }\n    },\n    {\n      \"column\": \"Tipo de A\\u00e7\\u00e3o\",\n      \"properties\": {\n        \"dtype\": \"category\",\n        \"num_unique_values\": 5,\n        \"samples\": [\n          \"A\\u00e7\\u00e3o C\\u00edvel\",\n          \"\\u00c0\\u00e7\\u00e3\\u00f3 Tr\\u00e2b\\u00e2lh\\u00ed\\u015bt\\u00e3\",\n          \"A\\u00e7\\u00e3o Trabalhista\"\n        ],\n        \"semantic_type\": \"\",\n        \"description\": \"\"\n      }\n    },\n    {\n      \"column\": \"Motivo da A\\u00e7\\u00e3o\",\n      \"properties\": {\n        \"dtype\": \"category\",\n        \"num_unique_values\": 8,\n        \"samples\": [\n          \"\\u00cend\\u00e9niz\\u00e2\\u00e7\\u00e3\",\n          \"R\\u00ebsp\\u00f5ns\\u00e1b\\u00efl\\u00edd\\u00e2d\\u00eb C\\u00efv\\u00efl\",\n          \"Div\\u00f3rcio\"\n        ],\n        \"semantic_type\": \"\",\n        \"description\": \"\"\n      }\n    },\n    {\n      \"column\": \"Advogado Autor\",\n      \"properties\": {\n        \"dtype\": \"string\",\n        \"num_unique_values\": 40126,\n        \"samples\": [\n          \"Claudia Sutton\",\n          \"James Campbell\",\n          \"Kelsey Mejia\"\n        ],\n        \"semantic_type\": \"\",\n        \"description\": \"\"\n      }\n    },\n    {\n      \"column\": \"Advogado R\\u00e9u\",\n      \"properties\": {\n        \"dtype\": \"category\",\n        \"num_unique_values\": 21949,\n        \"samples\": [\n          \"Johnny Kim\",\n          \"David Rich\",\n          \"Travis Miller\"\n        ],\n        \"semantic_type\": \"\",\n        \"description\": \"\"\n      }\n    },\n    {\n      \"column\": \"Resultado do Processo\",\n      \"properties\": {\n        \"dtype\": \"category\",\n        \"num_unique_values\": 4,\n        \"samples\": [\n          \"Improcedente\",\n          \"Procedente\",\n          \"Indefinido\"\n        ],\n        \"semantic_type\": \"\",\n        \"description\": \"\"\n      }\n    },\n    {\n      \"column\": \"Status\",\n      \"properties\": {\n        \"dtype\": \"category\",\n        \"num_unique_values\": 2,\n        \"samples\": [\n          \"Em andamento\",\n          \"Julgado\"\n        ],\n        \"semantic_type\": \"\",\n        \"description\": \"\"\n      }\n    },\n    {\n      \"column\": \"Vara\",\n      \"properties\": {\n        \"dtype\": \"category\",\n        \"num_unique_values\": 5,\n        \"samples\": [\n          \"5\\u00aa Vara C\\u00edvel\",\n          \"3\\u00aa Vara Criminal\"\n        ],\n        \"semantic_type\": \"\",\n        \"description\": \"\"\n      }\n    }\n  ]\n}"
            }
          },
          "metadata": {},
          "execution_count": 4
        }
      ]
    },
    {
      "cell_type": "code",
      "source": [
        "df.info()"
      ],
      "metadata": {
        "id": "oEHeDvNqLbaa",
        "colab": {
          "base_uri": "https://localhost:8080/"
        },
        "outputId": "15a33d1f-7ac4-48d1-9679-e34b4dc96854"
      },
      "execution_count": null,
      "outputs": [
        {
          "output_type": "stream",
          "name": "stdout",
          "text": [
            "<class 'pandas.core.frame.DataFrame'>\n",
            "RangeIndex: 49970 entries, 0 to 49969\n",
            "Data columns (total 15 columns):\n",
            " #   Column                 Non-Null Count  Dtype \n",
            "---  ------                 --------------  ----- \n",
            " 0   ID Processo            49970 non-null  int64 \n",
            " 1   Número do Processo     49970 non-null  object\n",
            " 2   Nome Autor             49970 non-null  object\n",
            " 3   Nome Réu               25062 non-null  object\n",
            " 4   Data Ajuizamento       49970 non-null  object\n",
            " 5   Valor da Causa         24984 non-null  object\n",
            " 6   Data da Sentença       25174 non-null  object\n",
            " 7   Valor da Sentença      24992 non-null  object\n",
            " 8   Tipo de Ação           49970 non-null  object\n",
            " 9   Motivo da Ação         49970 non-null  object\n",
            " 10  Advogado Autor         49970 non-null  object\n",
            " 11  Advogado Réu           25062 non-null  object\n",
            " 12  Resultado do Processo  49970 non-null  object\n",
            " 13  Status                 49970 non-null  object\n",
            " 14  Vara                   49970 non-null  object\n",
            "dtypes: int64(1), object(14)\n",
            "memory usage: 5.7+ MB\n"
          ]
        }
      ]
    },
    {
      "cell_type": "markdown",
      "source": [
        "## Avaliação de preenchimento dos dados"
      ],
      "metadata": {
        "id": "uu3XklwEJomc"
      }
    },
    {
      "cell_type": "code",
      "source": [
        "# Calculando a porcentagem de valores não nulos e não vazios em cada coluna, arredondando para duas casas decimais para facilitar visualização.\n",
        "percentual_preenchimento = ((df.notnull() & df.applymap(lambda x: str(x).strip() != \"\")).mean() * 100).round(2)\n",
        "\n",
        "# Transformando o resultado em um Dataframe\n",
        "df_preenchimento = percentual_preenchimento.reset_index()\n",
        "df_preenchimento.columns = ['Coluna', 'Percentual de Preenchimento (%)']\n",
        "\n",
        "print(df_preenchimento)"
      ],
      "metadata": {
        "colab": {
          "base_uri": "https://localhost:8080/"
        },
        "id": "Q0qt4YPEyJ-y",
        "outputId": "eaf322be-9655-4275-e239-45a0f704890b"
      },
      "execution_count": null,
      "outputs": [
        {
          "output_type": "stream",
          "name": "stderr",
          "text": [
            "<ipython-input-6-1493a1c11498>:2: FutureWarning: DataFrame.applymap has been deprecated. Use DataFrame.map instead.\n",
            "  percentual_preenchimento = ((df.notnull() & df.applymap(lambda x: str(x).strip() != \"\")).mean() * 100).round(2)\n"
          ]
        },
        {
          "output_type": "stream",
          "name": "stdout",
          "text": [
            "                   Coluna  Percentual de Preenchimento (%)\n",
            "0             ID Processo                           100.00\n",
            "1      Número do Processo                           100.00\n",
            "2              Nome Autor                           100.00\n",
            "3                Nome Réu                            50.15\n",
            "4        Data Ajuizamento                           100.00\n",
            "5          Valor da Causa                            50.00\n",
            "6        Data da Sentença                            50.38\n",
            "7       Valor da Sentença                            50.01\n",
            "8            Tipo de Ação                           100.00\n",
            "9          Motivo da Ação                           100.00\n",
            "10         Advogado Autor                           100.00\n",
            "11           Advogado Réu                            50.15\n",
            "12  Resultado do Processo                           100.00\n",
            "13                 Status                           100.00\n",
            "14                   Vara                           100.00\n"
          ]
        }
      ]
    },
    {
      "cell_type": "markdown",
      "source": [
        "## Avaliação de padronização dos dados"
      ],
      "metadata": {
        "id": "KYn1myAZKqSv"
      }
    },
    {
      "cell_type": "code",
      "source": [
        "def validar_padronizacao(df):\n",
        "    resultados = {}\n",
        "\n",
        "    # Cálculo do percentual de valores do campo \"ID Processo\" que são do tipo int\n",
        "    resultados['ID Processo'] = df['ID Processo'].apply(lambda x: isinstance(x, int)).mean() * 100\n",
        "\n",
        "\n",
        "    # Cálculo do percentual de valores do campo \"Números do Processo\" que possuem o formato \"AB-12345-01\", utilizando Regex\n",
        "    regex_num_processo = r\"^[a-zA-Z]{2}-\\d{5}-\\d{2}$\"\n",
        "    resultados['Número do Processo'] = df['Número do Processo'].apply(\n",
        "        lambda x: bool(re.match(regex_num_processo, str(x)))\n",
        "    ).mean() * 100\n",
        "\n",
        "\n",
        "    # Cálculo do percentual de valores dos campos \"Nome Autor\", \"Nome Réu\", \"Advogado Autor\" e \"Advogado Réu\" que foram preenchidos com letras maiúsculas, sem números, caracteres especiais ou acentos\n",
        "    # Utilizei Regex e um loop sobre todos os campos de nome da base para evitar a repetição da lógica\n",
        "    def validar_nome(x):\n",
        "        return bool(re.match(r\"^[A-Z\\s]+$\", x)) if isinstance(x, str) else False\n",
        "\n",
        "    for coluna in ['Nome Autor', 'Nome Réu', 'Advogado Autor', 'Advogado Réu']:\n",
        "        resultados[coluna] = df[coluna].apply(validar_nome).mean() * 100\n",
        "\n",
        "\n",
        "    # Cálculo do percentual de valores nos campos \"Data Ajuizamento\" e \"Data da Sentença\" que estão no formato AAAA-MM-DD\n",
        "    def validar_data(data):\n",
        "        try:\n",
        "            return pd.to_datetime(data, format='%Y-%m-%d', errors='coerce') is not pd.NaT\n",
        "        except:\n",
        "            return False\n",
        "\n",
        "    #Valida se a \"Data da Sentença\" está no formato AAAA-MM-DD\n",
        "    resultados['Data Ajuizamento'] = df['Data Ajuizamento'].apply(\n",
        "        lambda x: validar_data(x)\n",
        "    ).mean() * 100\n",
        "\n",
        "    # Valida se a \"Data da Sentença\" está no formato AAAA-MM-DD ou é None, conforme descrito no dicionário de dados\n",
        "    resultados['Data da Sentença'] = df['Data da Sentença'].apply(\n",
        "        lambda x: validar_data(x) if pd.notnull(x) else True\n",
        "    ).mean() * 100\n",
        "\n",
        "\n",
        "    # Cálculo do percentual de valores nos campos 'Valor da Causa' e 'Valor da Sentença' que estão em formato numérico com duas casas decimais\n",
        "    # Utilizei Regex e um loop sobre todos os valores da base para evitar a repetição da lógica\n",
        "    def validar_valor(x):\n",
        "        return bool(re.match(r\"^\\d+(\\.\\d{2})?$\", str(x))) if pd.notnull(x) else False\n",
        "\n",
        "    for coluna in ['Valor da Causa', 'Valor da Sentença']:\n",
        "        resultados[coluna] = df[coluna].apply(validar_valor).mean() * 100\n",
        "\n",
        "    # Cálculo do percentual de valores no campo \"Tipo de Ação\" que possuem categorias válidas e estão preenchidos com letras maiúsculas, sem números, caracteres especiais ou acentos\n",
        "    categorias_tipo_acao = ['AÇÃO PENAL', 'AÇÃO CÍVEL', 'AÇÃO TRABALHISTA']\n",
        "    resultados['Tipo de Ação'] = df['Tipo de Ação'].apply(\n",
        "        lambda x: x in categorias_tipo_acao if isinstance(x, str) else False\n",
        "    ).mean() * 100\n",
        "\n",
        "    # Cálculo do percentual de valores no campo \"Motivo da Ação\" que possuem categorias válidas e estão preenchidos com letras maiúsculas, sem números, caracteres especiais ou acentos\n",
        "    categorias_motivo_acao = ['DIVÓRCIO', 'INDENIZAÇÃO', 'DÍVIDA']\n",
        "    resultados['Motivo da Ação'] = df['Motivo da Ação'].apply(\n",
        "        lambda x: x in categorias_motivo_acao if isinstance(x, str) else False\n",
        "    ).mean() * 100\n",
        "\n",
        "    # Cálculo do percentual de valores no campo \"Resultado do Processo\" que possuem categorias válidas e estão preenchidos com letras maiúsculas, sem números, caracteres especiais ou acentos\n",
        "    categorias_resultado = ['ARQUIVADO', 'INDEFINIDO', 'IMPROCEDENTE', 'PROCEDENTE']\n",
        "    resultados['Resultado do Processo'] = df['Resultado do Processo'].apply(\n",
        "        lambda x: x in categorias_resultado if isinstance(x, str) else False\n",
        "    ).mean() * 100\n",
        "\n",
        "    # Cálculo do percentual de valores no campo \"Status\" que possuem categorias válidas e estão preenchidos com letras maiúsculas, sem números, caracteres especiais ou acentos\n",
        "    categorias_status = ['JULGADO', 'EM ANDAMENTO']\n",
        "    resultados['Status'] = df['Status'].apply(\n",
        "        lambda x: x in categorias_status if isinstance(x, str) else False\n",
        "    ).mean() * 100\n",
        "\n",
        "    # Cálculo do percentual de valores do campo \"Vara\" que possuem categorias validas e estão preenchidos com letras maiúsculas e sem acentos\n",
        "    categorias_vara = ['1ª VARA CIVEL', '2ª VARA CIVEL', '3ª VARA CRIMINAL','4ª VARA CIVEL', '5ª VARA CIVEL']\n",
        "    resultados['Vara'] = df['Vara'].apply(\n",
        "        lambda x: x in categorias_vara if isinstance(x, str) else False\n",
        "    ).mean() * 100\n",
        "\n",
        "    # Retorna o Dataframe com os resultados arredondados a duas casas decimais para facilitar a visualização\n",
        "    return pd.DataFrame(resultados, index=['Percentual Padronizado']).T.round(2)\n",
        "\n",
        "resultado_padronizacao = validar_padronizacao(df)\n",
        "\n",
        "# Transformando o resultado em um Dataframe\n",
        "df_padronizacao = resultado_padronizacao.reset_index()\n",
        "df_padronizacao.columns = ['Coluna', 'Percentual Padronizado (%)']\n",
        "\n",
        "print(df_padronizacao)"
      ],
      "metadata": {
        "colab": {
          "base_uri": "https://localhost:8080/"
        },
        "id": "nsymwkUNzRl2",
        "outputId": "d0bbda03-4f53-49a2-da8c-1a08ff46c1ea"
      },
      "execution_count": null,
      "outputs": [
        {
          "output_type": "stream",
          "name": "stdout",
          "text": [
            "                   Coluna  Percentual Padronizado (%)\n",
            "0             ID Processo                      100.00\n",
            "1      Número do Processo                      100.00\n",
            "2              Nome Autor                        0.00\n",
            "3                Nome Réu                        0.00\n",
            "4          Advogado Autor                        0.00\n",
            "5            Advogado Réu                        0.00\n",
            "6        Data Ajuizamento                       99.11\n",
            "7        Data da Sentença                       99.75\n",
            "8          Valor da Causa                        0.00\n",
            "9       Valor da Sentença                        0.00\n",
            "10           Tipo de Ação                        0.00\n",
            "11         Motivo da Ação                        0.00\n",
            "12  Resultado do Processo                        0.00\n",
            "13                 Status                        0.00\n",
            "14                   Vara                        0.00\n"
          ]
        }
      ]
    },
    {
      "cell_type": "markdown",
      "source": [
        "## Avaliação de Consistência dos Dados"
      ],
      "metadata": {
        "id": "Bhm7mDEMOQ6V"
      }
    },
    {
      "cell_type": "code",
      "source": [
        "def verificar_consistencia(df):\n",
        "    inconsistencias = {}\n",
        "    hoje = pd.Timestamp(dt.datetime.now())\n",
        "\n",
        "    # Contagem dos casos em que a \"Data Ajuizamento\" não é anterior à \"Data Sentença\"\n",
        "    inconsistencias['Data Ajuizamento maior que a Data da Sentença'] = df[\n",
        "        pd.to_datetime(df['Data Ajuizamento'], errors='coerce') >\n",
        "        pd.to_datetime(df['Data da Sentença'], errors='coerce')\n",
        "    ].shape[0]\n",
        "\n",
        "    return pd.DataFrame(inconsistencias, index=['Registros Incorretos']).T\n",
        "\n",
        "resultado_consistencia = verificar_consistencia(df)\n",
        "\n",
        "# Transformando o resultado em um Dataframe\n",
        "df_consistencia = resultado_consistencia.reset_index()\n",
        "df_consistencia.columns = ['Coluna', 'Contagem de registros']\n",
        "\n",
        "print(df_consistencia)\n"
      ],
      "metadata": {
        "colab": {
          "base_uri": "https://localhost:8080/"
        },
        "id": "Lx8d9x6m380D",
        "outputId": "4f4dcc7b-42cb-425a-aa84-c78f5bedbb5a"
      },
      "execution_count": null,
      "outputs": [
        {
          "output_type": "stream",
          "name": "stdout",
          "text": [
            "                                          Coluna  Contagem de registros\n",
            "0  Data Ajuizamento maior que a Data da Sentença                      6\n"
          ]
        }
      ]
    },
    {
      "cell_type": "markdown",
      "source": [
        "## Avaliação de Unicidade dos Dados"
      ],
      "metadata": {
        "id": "q0g2hurfP59X"
      }
    },
    {
      "cell_type": "code",
      "source": [
        "# Contagem das linhas duplicadas\n",
        "duplicados = df.duplicated(keep=False)\n",
        "resultado_duplicados = duplicados.sum()\n",
        "\n",
        "# Transformando o resultado em um Dataframe\n",
        "df_unicidade = pd.DataFrame({'Contagem de registros duplicados': [resultado_duplicados]})\n",
        "\n",
        "print(df_unicidade)"
      ],
      "metadata": {
        "colab": {
          "base_uri": "https://localhost:8080/"
        },
        "id": "_9HQjm5kQAgk",
        "outputId": "ad7baf63-d4d7-42ab-f6b7-939e25afb084"
      },
      "execution_count": null,
      "outputs": [
        {
          "output_type": "stream",
          "name": "stdout",
          "text": [
            "   Contagem de registros duplicados\n",
            "0                                 0\n"
          ]
        }
      ]
    },
    {
      "cell_type": "markdown",
      "source": [
        "## Criação da planilha com todos os resultados para ser utilizada no relatório"
      ],
      "metadata": {
        "id": "k679VKLHO0tL"
      }
    },
    {
      "cell_type": "code",
      "source": [
        "!pip install xlsxwriter"
      ],
      "metadata": {
        "colab": {
          "base_uri": "https://localhost:8080/"
        },
        "id": "5m3zJfRPPT0x",
        "outputId": "ae4ef5e2-03eb-41dc-c873-378ae5777584"
      },
      "execution_count": null,
      "outputs": [
        {
          "output_type": "stream",
          "name": "stdout",
          "text": [
            "Collecting xlsxwriter\n",
            "  Downloading XlsxWriter-3.2.0-py3-none-any.whl.metadata (2.6 kB)\n",
            "Downloading XlsxWriter-3.2.0-py3-none-any.whl (159 kB)\n",
            "\u001b[?25l   \u001b[90m━━━━━━━━━━━━━━━━━━━━━━━━━━━━━━━━━━━━━━━━\u001b[0m \u001b[32m0.0/159.9 kB\u001b[0m \u001b[31m?\u001b[0m eta \u001b[36m-:--:--\u001b[0m\r\u001b[2K   \u001b[91m━━━━━━━━━━━━━━━━━━━━━━━━━━━━━━━━━━━━━━\u001b[0m\u001b[90m╺\u001b[0m\u001b[90m━\u001b[0m \u001b[32m153.6/159.9 kB\u001b[0m \u001b[31m6.1 MB/s\u001b[0m eta \u001b[36m0:00:01\u001b[0m\r\u001b[2K   \u001b[90m━━━━━━━━━━━━━━━━━━━━━━━━━━━━━━━━━━━━━━━━\u001b[0m \u001b[32m159.9/159.9 kB\u001b[0m \u001b[31m3.9 MB/s\u001b[0m eta \u001b[36m0:00:00\u001b[0m\n",
            "\u001b[?25hInstalling collected packages: xlsxwriter\n",
            "Successfully installed xlsxwriter-3.2.0\n"
          ]
        }
      ]
    },
    {
      "cell_type": "code",
      "source": [
        "writer = pd.ExcelWriter('avaliação_qualidade_de_dados.xlsx', engine='xlsxwriter')\n",
        "\n",
        "df_preenchimento.to_excel(writer, sheet_name='Preenchimento')\n",
        "df_padronizacao.to_excel(writer, sheet_name='Padronização')\n",
        "df_consistencia.to_excel(writer, sheet_name='Consistência')\n",
        "df_unicidade.to_excel(writer, sheet_name='Unicidade')\n",
        "\n",
        "writer.close()"
      ],
      "metadata": {
        "id": "JLHEMG1CPEnD"
      },
      "execution_count": null,
      "outputs": []
    }
  ]
}